{
 "cells": [
  {
   "cell_type": "markdown",
   "id": "b78d6895-e271-444a-b0fb-e4cf14f14bba",
   "metadata": {},
   "source": [
    "Recall that quantum operations are represented as matrices. To preserve normalization, they must be a special type of matrix called a **unitary** matrix. For some $ 2 \\times 2 $ complex-valued unitary matrix **U** the state of the qubit after an operation is\n",
    "$$\\ket{\\psi'} = U\\ket{\\psi} $$"
   ]
  },
  {
   "cell_type": "markdown",
   "id": "97845e92-cd1a-4c30-b37b-183bb5765330",
   "metadata": {},
   "source": [
    "Let's simulate the process by completing the function $\n",
    "\\boxed{\\mathrm{apply\\_u}}\n",
    "$ below to apply the provided quantum operation $\n",
    "\\boxed{\\mathrm{U}}\n",
    "$  to an input $\n",
    "\\boxed{\\mathrm{state}}\n",
    "$.\n",
    "\n"
   ]
  },
  {
   "cell_type": "code",
   "execution_count": 42,
   "id": "d7967f8e-9f30-4f49-973c-85c8685ee48a",
   "metadata": {},
   "outputs": [],
   "source": [
    "#import numpy\n",
    "import numpy as np"
   ]
  },
  {
   "cell_type": "code",
   "execution_count": 44,
   "id": "1738b5a8-b70d-460f-ac41-8134b2454799",
   "metadata": {},
   "outputs": [],
   "source": [
    "U = np.array([[1, 1], [1, -1]]) / np.sqrt(2)"
   ]
  },
  {
   "cell_type": "code",
   "execution_count": 64,
   "id": "33a89f8b-c875-4175-83f0-f690f813b1d3",
   "metadata": {},
   "outputs": [],
   "source": [
    "def apply_u(state):\n",
    "    \"\"\"Apply a quantum operation.\n",
    "\n",
    "    Args:\n",
    "        state (np.array[complex]): A normalized quantum state vector.\n",
    "\n",
    "    Returns:\n",
    "        np.array[complex]: The output state after applying U.\n",
    "    \"\"\"\n",
    "\n",
    "    ##################\n",
    "    # YOUR CODE HERE #\n",
    "    ##################\n",
    "\n",
    "    # APPLY U TO THE INPUT STATE AND RETURN THE NEW STATE\n",
    "\n",
    "    #to make sure that the new state can append complex numbers\n",
    "    new_state = np.array([0+0j,0+0j])\n",
    "    for i in range(len(state)):\n",
    "        new_state[i] = (U[i][0]*state[0]) + (U[i][1]*state[1])\n",
    "      #  print(U[i][0])\n",
    "       # print(U[i][1])\n",
    "        #print(state[i])\n",
    "    return new_state"
   ]
  },
  {
   "cell_type": "code",
   "execution_count": 66,
   "id": "faf43c5b-316c-464f-b909-8a6070c2e468",
   "metadata": {},
   "outputs": [],
   "source": [
    "#testing\n",
    "U = np.array([[0, 1], [1, 0]])\n",
    "state = np.array([0.8, 0.6])"
   ]
  },
  {
   "cell_type": "code",
   "execution_count": 68,
   "id": "6f58cbf4-7183-4cbb-9405-c7aea36d5909",
   "metadata": {},
   "outputs": [
    {
     "data": {
      "text/plain": [
       "array([0.6, 0.8])"
      ]
     },
     "execution_count": 68,
     "metadata": {},
     "output_type": "execute_result"
    }
   ],
   "source": [
    "apply_u(state)"
   ]
  },
  {
   "cell_type": "code",
   "execution_count": null,
   "id": "7f6e69f8-7e36-458d-8023-8f9429ab77ad",
   "metadata": {},
   "outputs": [],
   "source": []
  }
 ],
 "metadata": {
  "kernelspec": {
   "display_name": "Pennylane",
   "language": "python",
   "name": "pennylane"
  },
  "language_info": {
   "codemirror_mode": {
    "name": "ipython",
    "version": 3
   },
   "file_extension": ".py",
   "mimetype": "text/x-python",
   "name": "python",
   "nbconvert_exporter": "python",
   "pygments_lexer": "ipython3",
   "version": "3.12.4"
  }
 },
 "nbformat": 4,
 "nbformat_minor": 5
}
