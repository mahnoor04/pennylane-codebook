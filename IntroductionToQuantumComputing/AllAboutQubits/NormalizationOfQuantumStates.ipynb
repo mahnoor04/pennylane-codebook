{
 "cells": [
  {
   "cell_type": "markdown",
   "id": "94b10a45-a45a-4576-9d3a-a8b0317a2375",
   "metadata": {},
   "source": [
    "In this codercise, you are given an unnormalized vector\n",
    "$$ \\ket{\\psi} = \\alpha \\ket{0} + \\beta \\ket{1}, $$ $$   |\\alpha|^2 + |\\beta|^2 \\neq 1 $$\n",
    "We can turn this into an equivalent, valid quantum state $ \\ket{\\psi'} $ by normalizing it. Your task is to complete the function $\n",
    "\\boxed{\\mathrm{normalize\\_state}}\n",
    "$\n",
    "so that, given $\\alpha$ and $\\beta$  it normalizes this state to, \n",
    "$$ \\ket{\\psi'} = \\alpha' \\ket{0} + \\beta' \\ket{1}, $$ $$   |\\alpha'|^2 + |\\beta'|^2 =1 $$"
   ]
  },
  {
   "cell_type": "code",
   "execution_count": 25,
   "id": "e6a10ef0-8db5-4fcd-9c75-6a9b3d176892",
   "metadata": {},
   "outputs": [],
   "source": [
    "#import the required library\n",
    "import numpy as np"
   ]
  },
  {
   "cell_type": "code",
   "execution_count": 37,
   "id": "e7cc00e9-6814-45fb-a07b-2e9ed66724e3",
   "metadata": {},
   "outputs": [],
   "source": [
    "# Here are the vector representations of |0> and |1>, for convenience\n",
    "ket_0 = np.array([1, 0])\n",
    "ket_1 = np.array([0, 1])"
   ]
  },
  {
   "cell_type": "code",
   "execution_count": 41,
   "id": "fb91097b-8716-4f49-84a7-8062314c5ec4",
   "metadata": {},
   "outputs": [],
   "source": [
    "\n",
    "\n",
    "def normalize_state(alpha, beta):\n",
    "    \"\"\"Compute a normalized quantum state given arbitrary amplitudes.\n",
    "\n",
    "    Args:\n",
    "        alpha (complex): The amplitude associated with the |0> state.\n",
    "        beta (complex): The amplitude associated with the |1> state.\n",
    "\n",
    "    Returns:\n",
    "        np.array[complex]: A vector (numpy array) with 2 elements that represents\n",
    "        a normalized quantum state.\n",
    "    \"\"\"\n",
    "\n",
    "    ##################\n",
    "    # YOUR CODE HERE #\n",
    "    ##################\n",
    "\n",
    "    # CREATE A VECTOR [a', b'] BASED ON alpha AND beta SUCH THAT |a'|^2 + |b'|^2 = 1\n",
    "\n",
    "    # RETURN A VECTOR\n",
    "    alpha_mod = abs(alpha)\n",
    "    beta_mod = abs(beta)\n",
    "    mag = (alpha_mod)**2 + (beta_mod)**2\n",
    "    norm_coeff = 1/np.sqrt(mag)\n",
    "    alpha_prime = norm_coeff * alpha\n",
    "    beta_prime =  norm_coeff * beta\n",
    "    list_re = [alpha_prime, beta_prime]\n",
    "    return np.array([alpha_prime, beta_prime])"
   ]
  },
  {
   "cell_type": "code",
   "execution_count": 57,
   "id": "b1392dbe-41b8-4df2-bbb9-f08bb0fc661b",
   "metadata": {},
   "outputs": [
    {
     "data": {
      "text/plain": [
       "array([0.48666426+0.64888568j, 0.32444284+0.48666426j])"
      ]
     },
     "execution_count": 57,
     "metadata": {},
     "output_type": "execute_result"
    }
   ],
   "source": [
    "normalize_state( 3+4j , 2+3j )"
   ]
  },
  {
   "cell_type": "code",
   "execution_count": null,
   "id": "050c0724-de15-483b-a81b-ed9fc9ab3d9c",
   "metadata": {},
   "outputs": [],
   "source": []
  }
 ],
 "metadata": {
  "kernelspec": {
   "display_name": "Pennylane",
   "language": "python",
   "name": "pennylane"
  },
  "language_info": {
   "codemirror_mode": {
    "name": "ipython",
    "version": 3
   },
   "file_extension": ".py",
   "mimetype": "text/x-python",
   "name": "python",
   "nbconvert_exporter": "python",
   "pygments_lexer": "ipython3",
   "version": "3.12.4"
  }
 },
 "nbformat": 4,
 "nbformat_minor": 5
}
