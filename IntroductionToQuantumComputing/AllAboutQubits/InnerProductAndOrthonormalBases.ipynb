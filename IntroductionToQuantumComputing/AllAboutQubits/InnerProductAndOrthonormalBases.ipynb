{
 "cells": [
  {
   "cell_type": "markdown",
   "id": "57f46566-be16-4df3-bf44-a5fadde91786",
   "metadata": {},
   "source": [
    "Complete the $\n",
    "\\boxed{\\mathrm{inner\\_product}}\n",
    "$ function below that computes the inner product between two arbitrary states. Then, use it to verify that $\\ket{0}$  and $\\ket{1}$ form an orthonormal basis, i.e., the states are normalized and orthogonal."
   ]
  },
  {
   "cell_type": "code",
   "execution_count": 3,
   "id": "38418c87-9a1d-46e0-8263-dd8678a72645",
   "metadata": {},
   "outputs": [],
   "source": [
    "#import numpy\n",
    "import numpy as np"
   ]
  },
  {
   "cell_type": "code",
   "execution_count": 7,
   "id": "4230ade9-80fa-4840-9cb7-3f728688151f",
   "metadata": {},
   "outputs": [],
   "source": [
    "def inner_product(state_1, state_2):\n",
    "    \"\"\"Compute the inner product between two states.\n",
    "\n",
    "    Args:\n",
    "        state_1 (np.array[complex]): A normalized quantum state vector\n",
    "        state_2 (np.array[complex]): A second normalized quantum state vector\n",
    "\n",
    "    Returns:\n",
    "        complex: The value of the inner product <state_1 | state_2>.\n",
    "    \"\"\"\n",
    "\n",
    "    ##################\n",
    "    # YOUR CODE HERE #\n",
    "    ##################\n",
    "\n",
    "    # COMPUTE AND RETURN THE INNER PRODUCT\n",
    "    inner_product = 0\n",
    "    for i in range(len(state_1)):\n",
    "        inner_product += np.conj(state_1[i])* state_2[i]\n",
    "    return inner_product\n"
   ]
  },
  {
   "cell_type": "code",
   "execution_count": 9,
   "id": "4a32cff7-4ae0-4649-ab87-5d10bdee787f",
   "metadata": {},
   "outputs": [],
   "source": [
    "# Test your results with this code\n",
    "ket_0 = np.array([1, 0])\n",
    "ket_1 = np.array([0, 1])\n",
    "\n"
   ]
  },
  {
   "cell_type": "code",
   "execution_count": 11,
   "id": "2bc73297-40cf-40ca-b6fd-aaef146b588a",
   "metadata": {},
   "outputs": [
    {
     "name": "stdout",
     "output_type": "stream",
     "text": [
      "<0|0> = 1\n",
      "<0|1> = 0\n",
      "<1|0> = 0\n",
      "<1|1> = 1\n"
     ]
    }
   ],
   "source": [
    "\n",
    "print(f\"<0|0> = {inner_product(ket_0, ket_0)}\")\n",
    "print(f\"<0|1> = {inner_product(ket_0, ket_1)}\")\n",
    "print(f\"<1|0> = {inner_product(ket_1, ket_0)}\")\n",
    "print(f\"<1|1> = {inner_product(ket_1, ket_1)}\")"
   ]
  },
  {
   "cell_type": "code",
   "execution_count": null,
   "id": "ce9fd9fe-82fa-4010-ae99-b097e47926c7",
   "metadata": {},
   "outputs": [],
   "source": []
  }
 ],
 "metadata": {
  "kernelspec": {
   "display_name": "Pennylane",
   "language": "python",
   "name": "pennylane"
  },
  "language_info": {
   "codemirror_mode": {
    "name": "ipython",
    "version": 3
   },
   "file_extension": ".py",
   "mimetype": "text/x-python",
   "name": "python",
   "nbconvert_exporter": "python",
   "pygments_lexer": "ipython3",
   "version": "3.12.4"
  }
 },
 "nbformat": 4,
 "nbformat_minor": 5
}
