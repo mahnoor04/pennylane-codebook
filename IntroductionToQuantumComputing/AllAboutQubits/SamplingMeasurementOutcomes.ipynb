{
 "cells": [
  {
   "cell_type": "markdown",
   "id": "56383a72-7914-434b-b6ab-c04ff622a572",
   "metadata": {},
   "source": [
    "Write the function $\n",
    "\\boxed{\\mathrm{measure\\_state}}\n",
    "$  that takes a quantum state vector as input and simulates the outcomes of an arbitrary number of quantum measurements, i.e., return a list of samples 0 or 1 based on the probabilities given by the input state."
   ]
  },
  {
   "cell_type": "code",
   "execution_count": 6,
   "id": "29736de3-3a1b-4d23-939d-f37557a4cd58",
   "metadata": {},
   "outputs": [],
   "source": [
    "import numpy as np"
   ]
  },
  {
   "cell_type": "markdown",
   "id": "88a50d19-78b7-4e40-b327-8c769305d3eb",
   "metadata": {},
   "source": [
    "## Checking the version of numpy"
   ]
  },
  {
   "cell_type": "code",
   "execution_count": 120,
   "id": "6ea4c495-0a4e-45b8-a55d-358864ab2d97",
   "metadata": {
    "scrolled": true
   },
   "outputs": [
    {
     "name": "stdout",
     "output_type": "stream",
     "text": [
      "1.26.4\n"
     ]
    }
   ],
   "source": [
    "print(np.__version__)"
   ]
  },
  {
   "cell_type": "markdown",
   "id": "6023348b-b593-46bf-b1c6-4bc5e1261299",
   "metadata": {},
   "source": [
    "## Coming towards the code"
   ]
  },
  {
   "cell_type": "code",
   "execution_count": 123,
   "id": "e1fbe65b-63bf-470c-afa5-31f9a49b3b1d",
   "metadata": {},
   "outputs": [],
   "source": [
    "def measure_state(state, num_meas):\n",
    "    \"\"\"Simulate a quantum measurement process.\n",
    "\n",
    "    Args:\n",
    "        state (np.array[complex]): A normalized qubit state vector.\n",
    "        num_meas (int): The number of measurements to take\n",
    "\n",
    "    Returns:\n",
    "        np.array[int]: A set of num_meas samples, 0 or 1, chosen according to the probability\n",
    "        distribution defined by the input state.\n",
    "    \"\"\"\n",
    "\n",
    "    \n",
    "    prob = np.array([])\n",
    "    for i in range(len(state)):\n",
    "        print(state[i])\n",
    "        ele = abs(state[i])**2\n",
    "        prob = np.append(prob, ele)\n",
    "      #  print(prob)\n",
    "       # print(ele)\n",
    "    #the outcome\n",
    "   # print(probabilities)\n",
    "    #measure = np.array([])\n",
    " #   for i in range(num_meas):\n",
    "  #      np.append(measure, np.random.choice(0,2, p=probabilities))\n",
    "    meas = np.random.choice(2, num_meas, p=prob)\n",
    "    return meas\n"
   ]
  },
  {
   "cell_type": "code",
   "execution_count": 125,
   "id": "03a3ddff-1dbd-4e72-93fb-db41f78efbc6",
   "metadata": {},
   "outputs": [],
   "source": [
    "state = np.array([0.8, 0.6])\n",
    "num_meas = 10"
   ]
  },
  {
   "cell_type": "code",
   "execution_count": 127,
   "id": "d04f0716-a239-4f3d-a741-9206267551e7",
   "metadata": {
    "scrolled": true
   },
   "outputs": [
    {
     "name": "stdout",
     "output_type": "stream",
     "text": [
      "0.8\n",
      "0.6\n"
     ]
    },
    {
     "data": {
      "text/plain": [
       "array([0, 0, 1, 0, 0, 1, 0, 0, 1, 1])"
      ]
     },
     "execution_count": 127,
     "metadata": {},
     "output_type": "execute_result"
    }
   ],
   "source": [
    "measure_state(state, num_meas)"
   ]
  },
  {
   "cell_type": "code",
   "execution_count": 111,
   "id": "a2a89145-1112-4223-805a-12518c34ebc5",
   "metadata": {},
   "outputs": [
    {
     "name": "stdout",
     "output_type": "stream",
     "text": [
      "[0.8 0.6 0.2]\n"
     ]
    }
   ],
   "source": []
  },
  {
   "cell_type": "code",
   "execution_count": 87,
   "id": "d50c4d08-9453-4436-9121-a4aa06864a6e",
   "metadata": {},
   "outputs": [
    {
     "name": "stdout",
     "output_type": "stream",
     "text": [
      "1.26.4\n"
     ]
    }
   ],
   "source": []
  },
  {
   "cell_type": "code",
   "execution_count": null,
   "id": "78163596-7b97-4740-b8dc-aba3e0194606",
   "metadata": {},
   "outputs": [],
   "source": []
  }
 ],
 "metadata": {
  "kernelspec": {
   "display_name": "Pennylane",
   "language": "python",
   "name": "pennylane"
  },
  "language_info": {
   "codemirror_mode": {
    "name": "ipython",
    "version": 3
   },
   "file_extension": ".py",
   "mimetype": "text/x-python",
   "name": "python",
   "nbconvert_exporter": "python",
   "pygments_lexer": "ipython3",
   "version": "3.12.4"
  }
 },
 "nbformat": 4,
 "nbformat_minor": 5
}
