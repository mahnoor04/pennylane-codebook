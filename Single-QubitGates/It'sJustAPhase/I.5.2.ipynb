{
 "cells": [
  {
   "cell_type": "markdown",
   "id": "a4b8d11b-734f-4972-8dc3-f0618099693f",
   "metadata": {},
   "source": [
    "Use  $ \\boxed{\\mathrm{qml.RZ}}$  to implement  $ \\boxed{\\mathrm{ qml.PauliZ }}$  operation"
   ]
  },
  {
   "cell_type": "code",
   "execution_count": 1,
   "id": "fa8d28a2-e20c-4119-867b-4ac5b49c18e6",
   "metadata": {},
   "outputs": [],
   "source": [
    "import pennylane as qml"
   ]
  },
  {
   "cell_type": "code",
   "execution_count": 7,
   "id": "b5939534-00e1-497b-8a4d-ce465edbf7e2",
   "metadata": {},
   "outputs": [],
   "source": [
    "import numpy as np"
   ]
  },
  {
   "cell_type": "code",
   "execution_count": 27,
   "id": "ef15a4f1-f462-47ee-823b-4187340950c4",
   "metadata": {},
   "outputs": [],
   "source": [
    "dev = qml.device(\"default.qubit\", wires=1)\n",
    "\n",
    "\n",
    "@qml.qnode(dev)\n",
    "def fake_z():\n",
    "    \"\"\"Use RZ to produce the same action as Pauli Z on the |+> state.\n",
    "\n",
    "    Returns:\n",
    "        np.array[complex]: The state of the qubit after the operations.\n",
    "    \"\"\"\n",
    "\n",
    "    ##################\n",
    "    # YOUR CODE HERE #\n",
    "    ##################\n",
    "\n",
    "    # CREATE THE |+> STATE\n",
    "    qml.Hadamard(wires=0)\n",
    "    # APPLY RZ\n",
    "    qml.RZ(np.pi, wires=0)\n",
    "    # RETURN THE STATE\n",
    "    return qml.state()\n"
   ]
  },
  {
   "cell_type": "code",
   "execution_count": 29,
   "id": "a4393b70-ecae-4d78-b5b1-aaa41e46e0a3",
   "metadata": {},
   "outputs": [
    {
     "data": {
      "text/plain": [
       "tensor([4.32978028e-17-0.70710678j, 4.32978028e-17+0.70710678j], requires_grad=True)"
      ]
     },
     "execution_count": 29,
     "metadata": {},
     "output_type": "execute_result"
    }
   ],
   "source": [
    "fake_z()"
   ]
  },
  {
   "cell_type": "code",
   "execution_count": null,
   "id": "6b41a15c-85b0-4caa-91ce-629b965067e6",
   "metadata": {},
   "outputs": [],
   "source": []
  }
 ],
 "metadata": {
  "kernelspec": {
   "display_name": "Pennylane",
   "language": "python",
   "name": "pennylane"
  },
  "language_info": {
   "codemirror_mode": {
    "name": "ipython",
    "version": 3
   },
   "file_extension": ".py",
   "mimetype": "text/x-python",
   "name": "python",
   "nbconvert_exporter": "python",
   "pygments_lexer": "ipython3",
   "version": "3.12.4"
  }
 },
 "nbformat": 4,
 "nbformat_minor": 5
}
