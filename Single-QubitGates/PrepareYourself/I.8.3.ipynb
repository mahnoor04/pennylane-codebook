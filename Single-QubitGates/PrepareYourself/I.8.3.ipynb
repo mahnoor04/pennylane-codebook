{
 "cells": [
  {
   "cell_type": "code",
   "execution_count": 7,
   "id": "0b79eef0-04e4-4be8-b63e-bf9ee52deece",
   "metadata": {},
   "outputs": [],
   "source": [
    "import numpy as np"
   ]
  },
  {
   "cell_type": "code",
   "execution_count": 9,
   "id": "91d6cb21-534c-400b-b1b2-8fc03ebceb55",
   "metadata": {},
   "outputs": [
    {
     "name": "stdout",
     "output_type": "stream",
     "text": [
      "[0.52889389-0.14956775j 0.67262317+0.49545818j]\n",
      "\n",
      "0: ──RY(1.98)──RZ(0.91)──GlobalPhase(-0.18)─┤  State\n"
     ]
    }
   ],
   "source": [
    "v = np.array([0.52889389 - 0.14956775j, 0.67262317 + 0.49545818j])\n",
    "\n",
    "##################\n",
    "# YOUR CODE HERE #\n",
    "##################\n",
    "\n",
    "# CREATE A DEVICE\n",
    "dev = qml.device(\"default.qubit\", wires=1)\n",
    "\n",
    "\n",
    "@qml.qnode(dev)\n",
    "\n",
    "# CONSTRUCT A QNODE THAT USES qml.MottonenStatePreparation\n",
    "# TO PREPARE A QUBIT IN STATE V, AND RETURN THE STATE\n",
    "\n",
    "\n",
    "def prepare_state(state=v):\n",
    "    qml.MottonenStatePreparation(state_vector=v, wires=0)\n",
    "\n",
    "    return qml.state()\n",
    "\n",
    "\n",
    "# This will draw the quantum circuit and allow you to inspect the output gates\n",
    "print(prepare_state(v))\n",
    "print()\n",
    "print(qml.draw(prepare_state, expansion_strategy=\"device\")(v))\n"
   ]
  },
  {
   "cell_type": "code",
   "execution_count": null,
   "id": "7cdb0712-8513-428a-85c8-9ea61391107f",
   "metadata": {},
   "outputs": [],
   "source": []
  }
 ],
 "metadata": {
  "kernelspec": {
   "display_name": "Pennylane",
   "language": "python",
   "name": "pennylane"
  },
  "language_info": {
   "codemirror_mode": {
    "name": "ipython",
    "version": 3
   },
   "file_extension": ".py",
   "mimetype": "text/x-python",
   "name": "python",
   "nbconvert_exporter": "python",
   "pygments_lexer": "ipython3",
   "version": "3.12.4"
  }
 },
 "nbformat": 4,
 "nbformat_minor": 5
}
