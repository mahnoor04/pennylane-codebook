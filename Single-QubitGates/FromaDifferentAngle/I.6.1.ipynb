{
 "cells": [
  {
   "cell_type": "code",
   "execution_count": 1,
   "id": "a46dd755-247b-4dfb-ab33-904f30513f0e",
   "metadata": {},
   "outputs": [],
   "source": [
    "import pennylane as qml\n",
    "import numpy as np"
   ]
  },
  {
   "cell_type": "code",
   "execution_count": 5,
   "id": "8df69c57-e831-43fc-b60a-b955d6bdbf33",
   "metadata": {},
   "outputs": [
    {
     "name": "stderr",
     "output_type": "stream",
     "text": [
      "<>:6: SyntaxWarning: invalid escape sequence '\\p'\n",
      "<>:6: SyntaxWarning: invalid escape sequence '\\p'\n",
      "C:\\Users\\Mr Laptop\\AppData\\Local\\Temp\\ipykernel_7220\\485322009.py:6: SyntaxWarning: invalid escape sequence '\\p'\n",
      "  \"\"\"Apply an RX gate with an angle of \\pi to a particular basis state.\n"
     ]
    }
   ],
   "source": [
    "dev = qml.device(\"default.qubit\", wires=1)\n",
    "\n",
    "\n",
    "@qml.qnode(dev)\n",
    "def apply_rx_pi(state):\n",
    "    \"\"\"Apply an RX gate with an angle of \\pi to a particular basis state.\n",
    "\n",
    "    Args:\n",
    "        state (int): Either 0 or 1. If 1, initialize the qubit to state |1>\n",
    "            before applying other operations.\n",
    "\n",
    "    Returns:\n",
    "        np.array[complex]: The state of the qubit after the operations.\n",
    "    \"\"\"\n",
    "    if state == 1:\n",
    "        qml.PauliX(wires=0)\n",
    "\n",
    "    ##################\n",
    "    # YOUR CODE HERE #\n",
    "    ##################\n",
    "\n",
    "    # APPLY RX(pi) AND RETURN THE STATE\n",
    "    qml.RX(np.pi, wires=0)\n",
    "    return qml.state()"
   ]
  },
  {
   "cell_type": "code",
   "execution_count": 7,
   "id": "afcc27bf-1469-4855-b076-a584005ad176",
   "metadata": {},
   "outputs": [
    {
     "name": "stdout",
     "output_type": "stream",
     "text": [
      "[6.123234e-17+0.j 0.000000e+00-1.j]\n",
      "[0.000000e+00-1.j 6.123234e-17+0.j]\n"
     ]
    }
   ],
   "source": [
    "print(apply_rx_pi(0))\n",
    "print(apply_rx_pi(1))"
   ]
  },
  {
   "cell_type": "code",
   "execution_count": null,
   "id": "5589d4ad-f541-4ba0-888f-c0a56973df75",
   "metadata": {},
   "outputs": [],
   "source": []
  }
 ],
 "metadata": {
  "kernelspec": {
   "display_name": "Pennylane",
   "language": "python",
   "name": "pennylane"
  },
  "language_info": {
   "codemirror_mode": {
    "name": "ipython",
    "version": 3
   },
   "file_extension": ".py",
   "mimetype": "text/x-python",
   "name": "python",
   "nbconvert_exporter": "python",
   "pygments_lexer": "ipython3",
   "version": "3.12.4"
  }
 },
 "nbformat": 4,
 "nbformat_minor": 5
}
