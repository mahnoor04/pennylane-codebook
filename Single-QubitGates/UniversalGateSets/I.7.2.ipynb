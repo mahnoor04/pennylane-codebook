{
 "cells": [
  {
   "cell_type": "markdown",
   "id": "83ab6d3c-4550-4098-9cd1-445f9e47fae3",
   "metadata": {},
   "source": [
    "Rewrite the following circuit in terms of [RZ, RX] gates"
   ]
  },
  {
   "attachments": {
    "988c8c29-e686-4d69-85a4-144afc922d9e.png": {
     "image/png": "[encoded data removed]"
    }
   },
   "cell_type": "markdown",
   "id": "4fce4949-aa0a-46b5-8c70-298ddd75b0b5",
   "metadata": {},
   "source": [
    "![4.png](attachment:988c8c29-e686-4d69-85a4-144afc922d9e.png)"
   ]
  },
  {
   "cell_type": "code",
   "execution_count": 2,
   "id": "b58c3b8d-0693-4004-b248-483b1c6d4cc9",
   "metadata": {},
   "outputs": [],
   "source": [
    "import numpy as np\n",
    "import pennylane as qml"
   ]
  },
  {
   "cell_type": "code",
   "execution_count": 3,
   "id": "73b7c09e-d4e7-4b83-82c8-30a2ba9b9f52",
   "metadata": {},
   "outputs": [],
   "source": [
    "dev = qml.device(\"default.qubit\", wires=1)\n",
    "\n",
    "\n",
    "@qml.qnode(dev)\n",
    "def convert_to_rz_rx():\n",
    "    ##################\n",
    "    # YOUR CODE HERE #\n",
    "    ##################\n",
    "\n",
    "    # IMPLEMENT THE CIRCUIT IN THE PICTURE USING ONLY RZ AND RX\n",
    "    \n",
    "    #for Hadamard gate\n",
    "    qml.RZ(np.pi/2, wires=0)\n",
    "    qml.RX(np.pi/2, wires=0)\n",
    "    qml.RZ(np.pi/2, wires=0)\n",
    "    #for S gate\n",
    "    qml.RZ(np.pi/2, wires=0)\n",
    "    #for adjoint T gate\n",
    "    qml.RZ(-np.pi/4, wires=0)\n",
    "    #for Y gate\n",
    "    qml.RZ(np.pi, wires= 0)\n",
    "    qml.RX(np.pi, wires= 0)\n",
    "    return qml.state()\n"
   ]
  },
  {
   "cell_type": "markdown",
   "id": "fcd4e5a5-784c-4c0b-b5d7-d01195c76209",
   "metadata": {},
   "source": [
    "Minimum number of gates"
   ]
  },
  {
   "cell_type": "code",
   "execution_count": 4,
   "id": "3bf23072-2ef6-4f43-823c-5dc129c5f2b2",
   "metadata": {},
   "outputs": [],
   "source": [
    "dev = qml.device(\"default.qubit\", wires=1)\n",
    "\n",
    "\n",
    "@qml.qnode(dev)\n",
    "def convert_to_rz_rx():\n",
    "    ##################\n",
    "    # YOUR CODE HERE #\n",
    "    ##################\n",
    "\n",
    "    # IMPLEMENT THE CIRCUIT IN THE PICTURE USING ONLY RZ AND RX\n",
    "    \n",
    "    qml.RZ(np.pi/2, wires=0)\n",
    "    qml.RX(np.pi/2, wires=0)\n",
    "    qml.RZ(7*np.pi/4, wires=0)\n",
    "    qml.RX(np.pi, wires= 0)\n",
    "    return qml.state()\n"
   ]
  },
  {
   "cell_type": "code",
   "execution_count": null,
   "id": "c0285494-f0bd-4dad-94af-2ea6ddf2e529",
   "metadata": {},
   "outputs": [],
   "source": []
  }
 ],
 "metadata": {
  "kernelspec": {
   "display_name": "Pennylane",
   "language": "python",
   "name": "pennylane"
  },
  "language_info": {
   "codemirror_mode": {
    "name": "ipython",
    "version": 3
   },
   "file_extension": ".py",
   "mimetype": "text/x-python",
   "name": "python",
   "nbconvert_exporter": "python",
   "pygments_lexer": "ipython3",
   "version": "3.12.4"
  }
 },
 "nbformat": 4,
 "nbformat_minor": 5
}
