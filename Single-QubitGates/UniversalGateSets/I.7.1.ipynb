{
 "cells": [
  {
   "cell_type": "markdown",
   "id": "3c5e2731-c20a-4761-af31-e8cad2159c00",
   "metadata": {},
   "source": [
    "## Problem Statement\n",
    "The rotation gate  $ \\boxed{\\mathrm{qml.Rot}} $ does the operation:\n",
    "$$ U(\\phi, \\theta, \\omega) = \\begin{pmatrix}e^{-\\iota(\\phi + \\omega)/2}\\cos(\\theta/2) & -e^{\\iota(\\phi - \\omega)/2}\\sin(\\theta/2)  \\\\\n",
    "e^{-\\iota(\\phi - \\omega)/2}\\sin(\\theta/2) & e^{\\iota(\\phi + \\omega)/2}\\cos(\\theta/2)\n",
    "\\end{pmatrix} $$\n",
    "\n",
    "In terms of operations it is actually given as:\n",
    "```\n",
    "def decomposed_rot(phi, theta, omega):\n",
    "    qml.RZ(phi, wires=0)\n",
    "    qml.RY(theta, wires=0)\n",
    "    qml.RZ(omega, wires=0)\n",
    "```\n",
    "Most general single-qubit operation are just $ \\boxed{\\mathrm{RZ}} $ and $ \\boxed{\\mathrm{RY}}$ gates. A universal gate set for single qubit could be one of the following:\n",
    "> 1. RZ, RY\n",
    "> 2. RZ, RX\n",
    "> 3. RY, RX"
   ]
  },
  {
   "cell_type": "markdown",
   "id": "aedc0d78-78e8-4736-be24-6ad95ad953cd",
   "metadata": {},
   "source": [
    "Now we have to find the values of phi, theta and omega such that the following sequence acts as Hadamard gate:\n",
    "\n",
    "```\n",
    "qml.RZ(phi, wires=0)\r",
    "qml.RX(theta, wires=0)\n",
    "qml.RZ(omega, wires=0)\r",
    "```"
   ]
  },
  {
   "cell_type": "code",
   "execution_count": 1,
   "id": "d97e0bf0-74cd-4257-8eee-3f3f2e6991e1",
   "metadata": {},
   "outputs": [],
   "source": [
    "import numpy as np\n",
    "import pennylane as qml"
   ]
  },
  {
   "cell_type": "code",
   "execution_count": 6,
   "id": "b236c5cf-40a0-416b-bb11-2488271a4431",
   "metadata": {},
   "outputs": [],
   "source": [
    "dev = qml.device(\"default.qubit\", wires=1)\n",
    "\n",
    "##################\n",
    "# YOUR CODE HERE #\n",
    "##################\n",
    "\n",
    "# ADJUST THE VALUES OF PHI, THETA, AND OMEGA\n",
    "phi, theta, omega = np.pi/2, np.pi/2, np.pi/2\n",
    "\n",
    "\n",
    "@qml.qnode(dev)\n",
    "def hadamard_with_rz_rx():\n",
    "    qml.RZ(phi, wires=0)\n",
    "    qml.RX(theta, wires=0)\n",
    "    qml.RZ(omega, wires=0)\n",
    "    return qml.state()\n"
   ]
  },
  {
   "cell_type": "code",
   "execution_count": 7,
   "id": "214d721d-01ed-4453-8cf6-e12d96827b1f",
   "metadata": {},
   "outputs": [
    {
     "data": {
      "text/plain": [
       "tensor([0.-0.70710678j, 0.-0.70710678j], requires_grad=True)"
      ]
     },
     "execution_count": 7,
     "metadata": {},
     "output_type": "execute_result"
    }
   ],
   "source": [
    "hadamard_with_rz_rx()"
   ]
  },
  {
   "cell_type": "markdown",
   "id": "9b7be82d-169f-4a72-93b0-1e3c92b65de0",
   "metadata": {},
   "source": [
    "We have found the result with a phase $ \\iota $"
   ]
  },
  {
   "cell_type": "code",
   "execution_count": null,
   "id": "5f3428f5-0a48-4d1c-a3e9-7b26efa3c2f3",
   "metadata": {},
   "outputs": [],
   "source": []
  }
 ],
 "metadata": {
  "kernelspec": {
   "display_name": "Pennylane",
   "language": "python",
   "name": "pennylane"
  },
  "language_info": {
   "codemirror_mode": {
    "name": "ipython",
    "version": 3
   },
   "file_extension": ".py",
   "mimetype": "text/x-python",
   "name": "python",
   "nbconvert_exporter": "python",
   "pygments_lexer": "ipython3",
   "version": "3.12.4"
  }
 },
 "nbformat": 4,
 "nbformat_minor": 5
}
